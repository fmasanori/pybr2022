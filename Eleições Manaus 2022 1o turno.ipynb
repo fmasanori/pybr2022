{
 "cells": [
  {
   "cell_type": "markdown",
   "metadata": {},
   "source": [
    "# Análise de Dados Eleitorais Manaus 1o turno\n",
    "\n",
    "Meus contatos: https://linktr.ee/fmasanori\n",
    "\n",
    "Agradecimentos à primeira turma do curso Desenvolvimento em Software Multiplataforma, da FATEC São José dos Campos, que desenvolveu este projeto, inicialmente para a [TV Vanguarda](http://vanguarda.tv/). Em especial à Monique Carniello.\n",
    "\n",
    "ATENÇÃO: na primeira tela de instalação do Python, habilite a opção PATH, note que **não** é o padrão.\n",
    "\n",
    "Instalar o Python 3.6 ou superior (sugerimos não usar Anaconda) <br>\n",
    "https://python.org.br/instalacao-windows/ <br>\n",
    "https://python.org.br/instalacao-linux/ <br>\n",
    "https://python.org.br/instalacao-mac/ <br>\n",
    "\n",
    "Após instalar o Python, abra o terminal (Linha de Comando) e instale as bibliotecas necessárias:<br>\n",
    "<br>\n",
    "**pip install pandas matplotlib jupyter numpy**\n",
    "\n",
    "Arquivos necessários:<br> \n",
    "https://cdn.tse.jus.br/estatistica/sead/odsele/perfil_eleitor_secao/perfil_eleitor_secao_ATUAL_AM.zip\n",
    "https://cdn.tse.jus.br/estatistica/sead/eleicoes/eleicoes2022/buweb/bweb_1t_AM_051020221321.zip<br>\n",
    "<br>\n",
    "**Descompactar em c:\\users\\seunome**<br>\n",
    "<br>"
   ]
  },
  {
   "cell_type": "markdown",
   "metadata": {},
   "source": [
    "# Primeira parte: Perfil do Eleitorado\n",
    "<br>\n",
    "<br>\n"
   ]
  },
  {
   "cell_type": "code",
   "execution_count": 1,
   "metadata": {},
   "outputs": [],
   "source": [
    "import pandas as pd\n",
    "import matplotlib.pyplot as plt"
   ]
  },
  {
   "cell_type": "code",
   "execution_count": 2,
   "metadata": {},
   "outputs": [],
   "source": [
    "estado = pd.read_csv(\"perfil_eleitor_secao_ATUAL_AM.csv\", \n",
    "                 usecols = '''NR_ZONA NR_SECAO NM_MUNICIPIO DS_FAIXA_ETARIA DS_ESTADO_CIVIL DS_GRAU_ESCOLARIDADE \n",
    "                 QT_ELEITORES_INC_NM_SOCIAL QT_ELEITORES_PERFIL'''.split(),\n",
    "                 sep=\";\", on_bad_lines = 'skip', encoding='Latin 1')\n",
    "municipio = estado.query('NM_MUNICIPIO == \"MANAUS\"')\n",
    "municipio = municipio.drop(columns = 'NM_MUNICIPIO')"
   ]
  },
  {
   "cell_type": "code",
   "execution_count": 3,
   "metadata": {
    "scrolled": true
   },
   "outputs": [
    {
     "data": {
      "text/html": [
       "<div>\n",
       "<style scoped>\n",
       "    .dataframe tbody tr th:only-of-type {\n",
       "        vertical-align: middle;\n",
       "    }\n",
       "\n",
       "    .dataframe tbody tr th {\n",
       "        vertical-align: top;\n",
       "    }\n",
       "\n",
       "    .dataframe thead th {\n",
       "        text-align: right;\n",
       "    }\n",
       "</style>\n",
       "<table border=\"1\" class=\"dataframe\">\n",
       "  <thead>\n",
       "    <tr style=\"text-align: right;\">\n",
       "      <th></th>\n",
       "      <th>NR_ZONA</th>\n",
       "      <th>NR_SECAO</th>\n",
       "      <th>DS_ESTADO_CIVIL</th>\n",
       "      <th>DS_FAIXA_ETARIA</th>\n",
       "      <th>DS_GRAU_ESCOLARIDADE</th>\n",
       "      <th>QT_ELEITORES_PERFIL</th>\n",
       "      <th>QT_ELEITORES_INC_NM_SOCIAL</th>\n",
       "    </tr>\n",
       "  </thead>\n",
       "  <tbody>\n",
       "    <tr>\n",
       "      <th>1080805</th>\n",
       "      <td>40</td>\n",
       "      <td>415</td>\n",
       "      <td>SOLTEIRO</td>\n",
       "      <td>60 a 64 anos</td>\n",
       "      <td>ENSINO MÉDIO COMPLETO</td>\n",
       "      <td>3</td>\n",
       "      <td>0</td>\n",
       "    </tr>\n",
       "    <tr>\n",
       "      <th>136919</th>\n",
       "      <td>32</td>\n",
       "      <td>683</td>\n",
       "      <td>SOLTEIRO</td>\n",
       "      <td>19 anos</td>\n",
       "      <td>ENSINO MÉDIO COMPLETO</td>\n",
       "      <td>2</td>\n",
       "      <td>0</td>\n",
       "    </tr>\n",
       "    <tr>\n",
       "      <th>29088</th>\n",
       "      <td>32</td>\n",
       "      <td>907</td>\n",
       "      <td>CASADO</td>\n",
       "      <td>45 a 49 anos</td>\n",
       "      <td>SUPERIOR INCOMPLETO</td>\n",
       "      <td>1</td>\n",
       "      <td>0</td>\n",
       "    </tr>\n",
       "    <tr>\n",
       "      <th>950799</th>\n",
       "      <td>58</td>\n",
       "      <td>756</td>\n",
       "      <td>CASADO</td>\n",
       "      <td>45 a 49 anos</td>\n",
       "      <td>ENSINO MÉDIO COMPLETO</td>\n",
       "      <td>6</td>\n",
       "      <td>0</td>\n",
       "    </tr>\n",
       "    <tr>\n",
       "      <th>831191</th>\n",
       "      <td>63</td>\n",
       "      <td>770</td>\n",
       "      <td>SOLTEIRO</td>\n",
       "      <td>50 a 54 anos</td>\n",
       "      <td>ENSINO FUNDAMENTAL INCOMPLETO</td>\n",
       "      <td>2</td>\n",
       "      <td>0</td>\n",
       "    </tr>\n",
       "    <tr>\n",
       "      <th>73212</th>\n",
       "      <td>32</td>\n",
       "      <td>930</td>\n",
       "      <td>SOLTEIRO</td>\n",
       "      <td>30 a 34 anos</td>\n",
       "      <td>ENSINO FUNDAMENTAL INCOMPLETO</td>\n",
       "      <td>5</td>\n",
       "      <td>0</td>\n",
       "    </tr>\n",
       "    <tr>\n",
       "      <th>201335</th>\n",
       "      <td>1</td>\n",
       "      <td>800</td>\n",
       "      <td>SOLTEIRO</td>\n",
       "      <td>30 a 34 anos</td>\n",
       "      <td>SUPERIOR COMPLETO</td>\n",
       "      <td>5</td>\n",
       "      <td>0</td>\n",
       "    </tr>\n",
       "    <tr>\n",
       "      <th>218330</th>\n",
       "      <td>1</td>\n",
       "      <td>782</td>\n",
       "      <td>SOLTEIRO</td>\n",
       "      <td>65 a 69 anos</td>\n",
       "      <td>ENSINO MÉDIO COMPLETO</td>\n",
       "      <td>3</td>\n",
       "      <td>0</td>\n",
       "    </tr>\n",
       "    <tr>\n",
       "      <th>545257</th>\n",
       "      <td>70</td>\n",
       "      <td>746</td>\n",
       "      <td>CASADO</td>\n",
       "      <td>50 a 54 anos</td>\n",
       "      <td>ENSINO MÉDIO COMPLETO</td>\n",
       "      <td>1</td>\n",
       "      <td>0</td>\n",
       "    </tr>\n",
       "    <tr>\n",
       "      <th>1030611</th>\n",
       "      <td>65</td>\n",
       "      <td>467</td>\n",
       "      <td>SOLTEIRO</td>\n",
       "      <td>18 anos</td>\n",
       "      <td>ENSINO MÉDIO COMPLETO</td>\n",
       "      <td>1</td>\n",
       "      <td>0</td>\n",
       "    </tr>\n",
       "    <tr>\n",
       "      <th>914337</th>\n",
       "      <td>65</td>\n",
       "      <td>529</td>\n",
       "      <td>CASADO</td>\n",
       "      <td>40 a 44 anos</td>\n",
       "      <td>SUPERIOR INCOMPLETO</td>\n",
       "      <td>1</td>\n",
       "      <td>0</td>\n",
       "    </tr>\n",
       "    <tr>\n",
       "      <th>1104074</th>\n",
       "      <td>37</td>\n",
       "      <td>622</td>\n",
       "      <td>SOLTEIRO</td>\n",
       "      <td>30 a 34 anos</td>\n",
       "      <td>ENSINO FUNDAMENTAL COMPLETO</td>\n",
       "      <td>1</td>\n",
       "      <td>0</td>\n",
       "    </tr>\n",
       "    <tr>\n",
       "      <th>180338</th>\n",
       "      <td>2</td>\n",
       "      <td>670</td>\n",
       "      <td>CASADO</td>\n",
       "      <td>50 a 54 anos</td>\n",
       "      <td>SUPERIOR INCOMPLETO</td>\n",
       "      <td>2</td>\n",
       "      <td>0</td>\n",
       "    </tr>\n",
       "    <tr>\n",
       "      <th>237106</th>\n",
       "      <td>2</td>\n",
       "      <td>722</td>\n",
       "      <td>CASADO</td>\n",
       "      <td>45 a 49 anos</td>\n",
       "      <td>SUPERIOR INCOMPLETO</td>\n",
       "      <td>1</td>\n",
       "      <td>0</td>\n",
       "    </tr>\n",
       "    <tr>\n",
       "      <th>229214</th>\n",
       "      <td>32</td>\n",
       "      <td>811</td>\n",
       "      <td>SOLTEIRO</td>\n",
       "      <td>16 anos</td>\n",
       "      <td>ENSINO MÉDIO COMPLETO</td>\n",
       "      <td>1</td>\n",
       "      <td>0</td>\n",
       "    </tr>\n",
       "    <tr>\n",
       "      <th>613157</th>\n",
       "      <td>40</td>\n",
       "      <td>521</td>\n",
       "      <td>CASADO</td>\n",
       "      <td>40 a 44 anos</td>\n",
       "      <td>ENSINO MÉDIO COMPLETO</td>\n",
       "      <td>3</td>\n",
       "      <td>0</td>\n",
       "    </tr>\n",
       "    <tr>\n",
       "      <th>31492</th>\n",
       "      <td>59</td>\n",
       "      <td>721</td>\n",
       "      <td>CASADO</td>\n",
       "      <td>40 a 44 anos</td>\n",
       "      <td>ENSINO MÉDIO COMPLETO</td>\n",
       "      <td>2</td>\n",
       "      <td>0</td>\n",
       "    </tr>\n",
       "    <tr>\n",
       "      <th>230079</th>\n",
       "      <td>2</td>\n",
       "      <td>570</td>\n",
       "      <td>VIÚVO</td>\n",
       "      <td>75 a 79 anos</td>\n",
       "      <td>ENSINO MÉDIO COMPLETO</td>\n",
       "      <td>1</td>\n",
       "      <td>0</td>\n",
       "    </tr>\n",
       "    <tr>\n",
       "      <th>274143</th>\n",
       "      <td>70</td>\n",
       "      <td>735</td>\n",
       "      <td>CASADO</td>\n",
       "      <td>40 a 44 anos</td>\n",
       "      <td>SUPERIOR INCOMPLETO</td>\n",
       "      <td>1</td>\n",
       "      <td>0</td>\n",
       "    </tr>\n",
       "    <tr>\n",
       "      <th>183236</th>\n",
       "      <td>32</td>\n",
       "      <td>643</td>\n",
       "      <td>CASADO</td>\n",
       "      <td>70 a 74 anos</td>\n",
       "      <td>ENSINO FUNDAMENTAL INCOMPLETO</td>\n",
       "      <td>2</td>\n",
       "      <td>0</td>\n",
       "    </tr>\n",
       "  </tbody>\n",
       "</table>\n",
       "</div>"
      ],
      "text/plain": [
       "         NR_ZONA  NR_SECAO DS_ESTADO_CIVIL DS_FAIXA_ETARIA  \\\n",
       "1080805       40       415        SOLTEIRO    60 a 64 anos   \n",
       "136919        32       683        SOLTEIRO         19 anos   \n",
       "29088         32       907          CASADO    45 a 49 anos   \n",
       "950799        58       756          CASADO    45 a 49 anos   \n",
       "831191        63       770        SOLTEIRO    50 a 54 anos   \n",
       "73212         32       930        SOLTEIRO    30 a 34 anos   \n",
       "201335         1       800        SOLTEIRO    30 a 34 anos   \n",
       "218330         1       782        SOLTEIRO    65 a 69 anos   \n",
       "545257        70       746          CASADO    50 a 54 anos   \n",
       "1030611       65       467        SOLTEIRO         18 anos   \n",
       "914337        65       529          CASADO    40 a 44 anos   \n",
       "1104074       37       622        SOLTEIRO    30 a 34 anos   \n",
       "180338         2       670          CASADO    50 a 54 anos   \n",
       "237106         2       722          CASADO    45 a 49 anos   \n",
       "229214        32       811        SOLTEIRO         16 anos   \n",
       "613157        40       521          CASADO    40 a 44 anos   \n",
       "31492         59       721          CASADO    40 a 44 anos   \n",
       "230079         2       570           VIÚVO    75 a 79 anos   \n",
       "274143        70       735          CASADO    40 a 44 anos   \n",
       "183236        32       643          CASADO    70 a 74 anos   \n",
       "\n",
       "                  DS_GRAU_ESCOLARIDADE  QT_ELEITORES_PERFIL  \\\n",
       "1080805          ENSINO MÉDIO COMPLETO                    3   \n",
       "136919           ENSINO MÉDIO COMPLETO                    2   \n",
       "29088              SUPERIOR INCOMPLETO                    1   \n",
       "950799           ENSINO MÉDIO COMPLETO                    6   \n",
       "831191   ENSINO FUNDAMENTAL INCOMPLETO                    2   \n",
       "73212    ENSINO FUNDAMENTAL INCOMPLETO                    5   \n",
       "201335               SUPERIOR COMPLETO                    5   \n",
       "218330           ENSINO MÉDIO COMPLETO                    3   \n",
       "545257           ENSINO MÉDIO COMPLETO                    1   \n",
       "1030611          ENSINO MÉDIO COMPLETO                    1   \n",
       "914337             SUPERIOR INCOMPLETO                    1   \n",
       "1104074    ENSINO FUNDAMENTAL COMPLETO                    1   \n",
       "180338             SUPERIOR INCOMPLETO                    2   \n",
       "237106             SUPERIOR INCOMPLETO                    1   \n",
       "229214           ENSINO MÉDIO COMPLETO                    1   \n",
       "613157           ENSINO MÉDIO COMPLETO                    3   \n",
       "31492            ENSINO MÉDIO COMPLETO                    2   \n",
       "230079           ENSINO MÉDIO COMPLETO                    1   \n",
       "274143             SUPERIOR INCOMPLETO                    1   \n",
       "183236   ENSINO FUNDAMENTAL INCOMPLETO                    2   \n",
       "\n",
       "         QT_ELEITORES_INC_NM_SOCIAL  \n",
       "1080805                           0  \n",
       "136919                            0  \n",
       "29088                             0  \n",
       "950799                            0  \n",
       "831191                            0  \n",
       "73212                             0  \n",
       "201335                            0  \n",
       "218330                            0  \n",
       "545257                            0  \n",
       "1030611                           0  \n",
       "914337                            0  \n",
       "1104074                           0  \n",
       "180338                            0  \n",
       "237106                            0  \n",
       "229214                            0  \n",
       "613157                            0  \n",
       "31492                             0  \n",
       "230079                            0  \n",
       "274143                            0  \n",
       "183236                            0  "
      ]
     },
     "execution_count": 3,
     "metadata": {},
     "output_type": "execute_result"
    }
   ],
   "source": [
    "municipio.sample(20)"
   ]
  },
  {
   "cell_type": "markdown",
   "metadata": {},
   "source": [
    "## Faixa Etária \n"
   ]
  },
  {
   "cell_type": "code",
   "execution_count": 4,
   "metadata": {},
   "outputs": [
    {
     "data": {
      "text/plain": [
       "DS_FAIXA_ETARIA\n",
       "100 anos ou mais        32\n",
       "16 anos               8637\n",
       "17 anos              16406\n",
       "18 anos              24333\n",
       "19 anos              28095\n",
       "20 anos              29690\n",
       "21 a 24 anos        137170\n",
       "25 a 29 anos        174068\n",
       "30 a 34 anos        156352\n",
       "35 a 39 anos        166364\n",
       "40 a 44 anos        162709\n",
       "45 a 49 anos        135285\n",
       "50 a 54 anos        109253\n",
       "55 a 59 anos         89516\n",
       "60 a 64 anos         69129\n",
       "65 a 69 anos         50871\n",
       "70 a 74 anos         32857\n",
       "75 a 79 anos         15858\n",
       "80 a 84 anos          6190\n",
       "85 a 89 anos          2363\n",
       "90 a 94 anos           636\n",
       "95 a 99 anos           122\n",
       "Inválido                22\n",
       "Name: QT_ELEITORES_PERFIL, dtype: int64"
      ]
     },
     "execution_count": 4,
     "metadata": {},
     "output_type": "execute_result"
    }
   ],
   "source": [
    "FaixaEtaria = municipio.groupby(['DS_FAIXA_ETARIA'])['QT_ELEITORES_PERFIL'].sum()\n",
    "FaixaEtaria"
   ]
  },
  {
   "cell_type": "code",
   "execution_count": 5,
   "metadata": {
    "scrolled": false
   },
   "outputs": [
    {
     "data": {
      "image/png": "[encoded data removed]",
      "text/plain": [
       "<Figure size 1152x720 with 1 Axes>"
      ]
     },
     "metadata": {
      "needs_background": "light"
     },
     "output_type": "display_data"
    }
   ],
   "source": [
    "FaixaEtaria.plot(kind='barh', figsize=(16,10))\n",
    "plt.ylabel('FAIXA ETÁRIA')\n",
    "plt.grid(linestyle = '--', linewidth = 0.5)\n"
   ]
  },
  {
   "cell_type": "markdown",
   "metadata": {},
   "source": [
    "## Agrupamento da faixa etária"
   ]
  },
  {
   "cell_type": "code",
   "execution_count": 6,
   "metadata": {},
   "outputs": [],
   "source": [
    "Jovem = FaixaEtaria[1:8] \n",
    "Adulto = FaixaEtaria[8:14] \n",
    "Idoso = FaixaEtaria[14:22] "
   ]
  },
  {
   "cell_type": "code",
   "execution_count": 7,
   "metadata": {
    "scrolled": false
   },
   "outputs": [
    {
     "data": {
      "text/html": [
       "<div>\n",
       "<style scoped>\n",
       "    .dataframe tbody tr th:only-of-type {\n",
       "        vertical-align: middle;\n",
       "    }\n",
       "\n",
       "    .dataframe tbody tr th {\n",
       "        vertical-align: top;\n",
       "    }\n",
       "\n",
       "    .dataframe thead th {\n",
       "        text-align: right;\n",
       "    }\n",
       "</style>\n",
       "<table border=\"1\" class=\"dataframe\">\n",
       "  <thead>\n",
       "    <tr style=\"text-align: right;\">\n",
       "      <th></th>\n",
       "      <th>Manaus</th>\n",
       "    </tr>\n",
       "  </thead>\n",
       "  <tbody>\n",
       "    <tr>\n",
       "      <th>Jovens até 29 anos</th>\n",
       "      <td>418399</td>\n",
       "    </tr>\n",
       "    <tr>\n",
       "      <th>Adultos</th>\n",
       "      <td>819479</td>\n",
       "    </tr>\n",
       "    <tr>\n",
       "      <th>Idosos a partir de 60</th>\n",
       "      <td>178058</td>\n",
       "    </tr>\n",
       "  </tbody>\n",
       "</table>\n",
       "</div>"
      ],
      "text/plain": [
       "                       Manaus\n",
       "Jovens até 29 anos     418399\n",
       "Adultos                819479\n",
       "Idosos a partir de 60  178058"
      ]
     },
     "execution_count": 7,
     "metadata": {},
     "output_type": "execute_result"
    }
   ],
   "source": [
    "FaixasIdade = pd.DataFrame({'Manaus':[Jovem.sum(), Adulto.sum(), Idoso.sum() + int(FaixaEtaria[0])]},\n",
    "                        #somando idosos acima de 100 anos que estão no ínício\n",
    "                        index = ['Jovens até 29 anos', 'Adultos', 'Idosos a partir de 60'])\n",
    "FaixasIdade"
   ]
  },
  {
   "cell_type": "code",
   "execution_count": 8,
   "metadata": {},
   "outputs": [
    {
     "data": {
      "image/png": "[encoded data removed]",
      "text/plain": [
       "<Figure size 1152x576 with 1 Axes>"
      ]
     },
     "metadata": {
      "needs_background": "light"
     },
     "output_type": "display_data"
    }
   ],
   "source": [
    "FaixasIdade.plot(kind='barh', figsize=(16,8))\n",
    "plt.ylabel('FAIXA ETÁRIA AGRUPADA')\n",
    "plt.grid(linestyle = '--', linewidth = 0.5)\n"
   ]
  },
  {
   "cell_type": "markdown",
   "metadata": {},
   "source": [
    "## Zonas Eleitorais com mais jovens e mais idosos"
   ]
  },
  {
   "cell_type": "code",
   "execution_count": 9,
   "metadata": {},
   "outputs": [
    {
     "name": "stdout",
     "output_type": "stream",
     "text": [
      "Zona eleitoral 63: 42241\n",
      "Zona eleitoral 62: 41857\n",
      "Zona eleitoral 65: 40988\n",
      "Zona eleitoral 70: 36323\n",
      "Zona eleitoral 58: 34724\n",
      "Zona eleitoral 40: 33027\n",
      "Zona eleitoral 59: 32868\n",
      "Zona eleitoral 32: 32825\n",
      "Zona eleitoral 68: 30207\n",
      "Zona eleitoral 37: 25196\n",
      "Zona eleitoral 2: 22892\n",
      "Zona eleitoral 31: 22889\n",
      "Zona eleitoral 1: 22362\n"
     ]
    }
   ],
   "source": [
    "jovens = {}\n",
    "for zona in municipio.NR_ZONA.unique():\n",
    "    result = municipio.query('NR_ZONA == @zona').groupby('DS_FAIXA_ETARIA')['QT_ELEITORES_PERFIL'].sum()\n",
    "    jovens[zona] = result[1:8].sum()\n",
    "for zona in sorted(jovens, key=lambda x:jovens[x], reverse = True):\n",
    "    print (f'Zona eleitoral {zona}: {jovens[zona]}')"
   ]
  },
  {
   "cell_type": "code",
   "execution_count": 10,
   "metadata": {},
   "outputs": [
    {
     "name": "stdout",
     "output_type": "stream",
     "text": [
      "Zona eleitoral 1: 20158\n",
      "Zona eleitoral 40: 18494\n",
      "Zona eleitoral 32: 17033\n",
      "Zona eleitoral 2: 14868\n",
      "Zona eleitoral 58: 14345\n",
      "Zona eleitoral 37: 14097\n",
      "Zona eleitoral 62: 13995\n",
      "Zona eleitoral 63: 13024\n",
      "Zona eleitoral 59: 11533\n",
      "Zona eleitoral 65: 10963\n",
      "Zona eleitoral 31: 10776\n",
      "Zona eleitoral 70: 10648\n",
      "Zona eleitoral 68: 8124\n"
     ]
    }
   ],
   "source": [
    "idosos = {}\n",
    "for zona in municipio.NR_ZONA.unique():\n",
    "    result = municipio.query('NR_ZONA == @zona').groupby('DS_FAIXA_ETARIA')['QT_ELEITORES_PERFIL'].sum()\n",
    "    idosos[zona] = result[14:22].sum() + int(result[0])\n",
    "for zona in sorted(idosos, key=lambda x:idosos[x], reverse = True):\n",
    "    print (f'Zona eleitoral {zona}: {idosos[zona]}')"
   ]
  },
  {
   "cell_type": "markdown",
   "metadata": {},
   "source": [
    "## Estado Civil"
   ]
  },
  {
   "cell_type": "code",
   "execution_count": 11,
   "metadata": {},
   "outputs": [
    {
     "data": {
      "text/plain": [
       "DS_ESTADO_CIVIL\n",
       "SOLTEIRO                  974010\n",
       "CASADO                    370037\n",
       "DIVORCIADO                 39134\n",
       "VIÚVO                      24079\n",
       "SEPARADO JUDICIALMENTE      8698\n",
       "Name: QT_ELEITORES_PERFIL, dtype: int64"
      ]
     },
     "execution_count": 11,
     "metadata": {},
     "output_type": "execute_result"
    }
   ],
   "source": [
    "EstadoCivil = municipio.groupby('DS_ESTADO_CIVIL')['QT_ELEITORES_PERFIL'].sum().sort_values(ascending=False)\n",
    "EstadoCivil"
   ]
  },
  {
   "cell_type": "markdown",
   "metadata": {},
   "source": [
    "## Escolaridade\n"
   ]
  },
  {
   "cell_type": "code",
   "execution_count": 12,
   "metadata": {},
   "outputs": [
    {
     "data": {
      "text/plain": [
       "DS_GRAU_ESCOLARIDADE\n",
       "ENSINO MÉDIO COMPLETO            528182\n",
       "ENSINO MÉDIO INCOMPLETO          242232\n",
       "ENSINO FUNDAMENTAL INCOMPLETO    220687\n",
       "SUPERIOR COMPLETO                175320\n",
       "SUPERIOR INCOMPLETO              135080\n",
       "ENSINO FUNDAMENTAL COMPLETO       71197\n",
       "LÊ E ESCREVE                      31061\n",
       "ANALFABETO                        12199\n",
       "Name: QT_ELEITORES_PERFIL, dtype: int64"
      ]
     },
     "execution_count": 12,
     "metadata": {},
     "output_type": "execute_result"
    }
   ],
   "source": [
    "Escolaridade = municipio.groupby(['DS_GRAU_ESCOLARIDADE'])['QT_ELEITORES_PERFIL'].sum().sort_values(ascending = False)\n",
    "Escolaridade"
   ]
  },
  {
   "cell_type": "markdown",
   "metadata": {},
   "source": [
    "## Salvar Dados"
   ]
  },
  {
   "cell_type": "code",
   "execution_count": 13,
   "metadata": {},
   "outputs": [],
   "source": [
    "FaixasIdade.to_csv('FaixasIdade.csv')\n",
    "EstadoCivil.to_csv('EstadoCivil.csv')\n",
    "Escolaridade.to_csv('Escolaridade.csv')"
   ]
  },
  {
   "cell_type": "markdown",
   "metadata": {},
   "source": [
    "## Nome social\n"
   ]
  },
  {
   "cell_type": "code",
   "execution_count": 14,
   "metadata": {},
   "outputs": [
    {
     "data": {
      "text/plain": [
       "382"
      ]
     },
     "execution_count": 14,
     "metadata": {},
     "output_type": "execute_result"
    }
   ],
   "source": [
    "NomeSocial = municipio.groupby(['QT_ELEITORES_INC_NM_SOCIAL'])['QT_ELEITORES_PERFIL'].count()\n",
    "NomeSocial[1]"
   ]
  },
  {
   "cell_type": "markdown",
   "metadata": {},
   "source": [
    "# Zonas Eleitorais com mais pessoas que utilizam nome social"
   ]
  },
  {
   "cell_type": "code",
   "execution_count": 15,
   "metadata": {},
   "outputs": [
    {
     "name": "stdout",
     "output_type": "stream",
     "text": [
      "Zona eleitoral 62: 45\n",
      "Zona eleitoral 40: 44\n",
      "Zona eleitoral 70: 34\n",
      "Zona eleitoral 63: 32\n",
      "Zona eleitoral 1: 32\n",
      "Zona eleitoral 37: 29\n",
      "Zona eleitoral 2: 28\n",
      "Zona eleitoral 32: 25\n",
      "Zona eleitoral 65: 25\n",
      "Zona eleitoral 58: 24\n",
      "Zona eleitoral 31: 24\n",
      "Zona eleitoral 59: 21\n",
      "Zona eleitoral 68: 19\n"
     ]
    }
   ],
   "source": [
    "nome_social = {}\n",
    "for zona in municipio.NR_ZONA.unique():\n",
    "    result = municipio.query('NR_ZONA == @zona').groupby('QT_ELEITORES_INC_NM_SOCIAL')['QT_ELEITORES_PERFIL'].count()\n",
    "    nome_social[zona] = result[1]\n",
    "for zona in sorted(nome_social, key=lambda x:nome_social[x], reverse = True):\n",
    "    print (f'Zona eleitoral {zona}: {nome_social[zona]}')"
   ]
  },
  {
   "cell_type": "markdown",
   "metadata": {},
   "source": [
    "# Segunda parte: análise dos boletins de urna do 1o turno\n",
    "<br>\n",
    "<br>"
   ]
  },
  {
   "cell_type": "code",
   "execution_count": 16,
   "metadata": {},
   "outputs": [],
   "source": [
    "import pandas as pd\n",
    "import matplotlib.pyplot as plt\n",
    "import numpy as np"
   ]
  },
  {
   "cell_type": "code",
   "execution_count": 17,
   "metadata": {},
   "outputs": [],
   "source": [
    "estado = pd.read_csv(\"bweb_1t_AM_051020221321.csv\", \n",
    "                 usecols = '''NR_ZONA NR_SECAO NM_MUNICIPIO QT_COMPARECIMENTO QT_APTOS QT_COMPARECIMENTO \n",
    "                 QT_ABSTENCOES NR_VOTAVEL NM_VOTAVEL QT_VOTOS DS_CARGO_PERGUNTA'''.split(),\n",
    "                 sep=\";\", on_bad_lines = 'skip', encoding='Latin 1')\n",
    "municipio = estado.query('NM_MUNICIPIO == \"MANAUS\" and DS_CARGO_PERGUNTA == \"Presidente\"')\n",
    "municipio = municipio.drop(columns = 'NM_MUNICIPIO DS_CARGO_PERGUNTA'.split())"
   ]
  },
  {
   "cell_type": "code",
   "execution_count": 18,
   "metadata": {},
   "outputs": [
    {
     "data": {
      "text/html": [
       "<div>\n",
       "<style scoped>\n",
       "    .dataframe tbody tr th:only-of-type {\n",
       "        vertical-align: middle;\n",
       "    }\n",
       "\n",
       "    .dataframe tbody tr th {\n",
       "        vertical-align: top;\n",
       "    }\n",
       "\n",
       "    .dataframe thead th {\n",
       "        text-align: right;\n",
       "    }\n",
       "</style>\n",
       "<table border=\"1\" class=\"dataframe\">\n",
       "  <thead>\n",
       "    <tr style=\"text-align: right;\">\n",
       "      <th></th>\n",
       "      <th>NR_ZONA</th>\n",
       "      <th>NR_SECAO</th>\n",
       "      <th>QT_APTOS</th>\n",
       "      <th>QT_COMPARECIMENTO</th>\n",
       "      <th>QT_ABSTENCOES</th>\n",
       "      <th>NR_VOTAVEL</th>\n",
       "      <th>NM_VOTAVEL</th>\n",
       "      <th>QT_VOTOS</th>\n",
       "    </tr>\n",
       "  </thead>\n",
       "  <tbody>\n",
       "    <tr>\n",
       "      <th>563398</th>\n",
       "      <td>40</td>\n",
       "      <td>510</td>\n",
       "      <td>422</td>\n",
       "      <td>372</td>\n",
       "      <td>50</td>\n",
       "      <td>14</td>\n",
       "      <td>PADRE KELMON</td>\n",
       "      <td>1</td>\n",
       "    </tr>\n",
       "    <tr>\n",
       "      <th>506759</th>\n",
       "      <td>37</td>\n",
       "      <td>658</td>\n",
       "      <td>393</td>\n",
       "      <td>348</td>\n",
       "      <td>45</td>\n",
       "      <td>95</td>\n",
       "      <td>Branco</td>\n",
       "      <td>6</td>\n",
       "    </tr>\n",
       "    <tr>\n",
       "      <th>722530</th>\n",
       "      <td>59</td>\n",
       "      <td>570</td>\n",
       "      <td>390</td>\n",
       "      <td>345</td>\n",
       "      <td>45</td>\n",
       "      <td>16</td>\n",
       "      <td>VERA</td>\n",
       "      <td>1</td>\n",
       "    </tr>\n",
       "    <tr>\n",
       "      <th>977657</th>\n",
       "      <td>68</td>\n",
       "      <td>589</td>\n",
       "      <td>390</td>\n",
       "      <td>328</td>\n",
       "      <td>62</td>\n",
       "      <td>12</td>\n",
       "      <td>CIRO GOMES</td>\n",
       "      <td>12</td>\n",
       "    </tr>\n",
       "    <tr>\n",
       "      <th>60879</th>\n",
       "      <td>2</td>\n",
       "      <td>569</td>\n",
       "      <td>343</td>\n",
       "      <td>294</td>\n",
       "      <td>49</td>\n",
       "      <td>44</td>\n",
       "      <td>SORAYA THRONICKE</td>\n",
       "      <td>2</td>\n",
       "    </tr>\n",
       "    <tr>\n",
       "      <th>343808</th>\n",
       "      <td>31</td>\n",
       "      <td>555</td>\n",
       "      <td>383</td>\n",
       "      <td>336</td>\n",
       "      <td>47</td>\n",
       "      <td>12</td>\n",
       "      <td>CIRO GOMES</td>\n",
       "      <td>10</td>\n",
       "    </tr>\n",
       "    <tr>\n",
       "      <th>748617</th>\n",
       "      <td>59</td>\n",
       "      <td>713</td>\n",
       "      <td>390</td>\n",
       "      <td>316</td>\n",
       "      <td>74</td>\n",
       "      <td>15</td>\n",
       "      <td>SIMONE TEBET</td>\n",
       "      <td>4</td>\n",
       "    </tr>\n",
       "    <tr>\n",
       "      <th>527128</th>\n",
       "      <td>40</td>\n",
       "      <td>318</td>\n",
       "      <td>421</td>\n",
       "      <td>361</td>\n",
       "      <td>60</td>\n",
       "      <td>30</td>\n",
       "      <td>FELIPE D'AVILA</td>\n",
       "      <td>1</td>\n",
       "    </tr>\n",
       "    <tr>\n",
       "      <th>862163</th>\n",
       "      <td>63</td>\n",
       "      <td>639</td>\n",
       "      <td>420</td>\n",
       "      <td>367</td>\n",
       "      <td>53</td>\n",
       "      <td>22</td>\n",
       "      <td>JAIR BOLSONARO</td>\n",
       "      <td>160</td>\n",
       "    </tr>\n",
       "    <tr>\n",
       "      <th>384999</th>\n",
       "      <td>32</td>\n",
       "      <td>616</td>\n",
       "      <td>401</td>\n",
       "      <td>359</td>\n",
       "      <td>42</td>\n",
       "      <td>13</td>\n",
       "      <td>LULA</td>\n",
       "      <td>129</td>\n",
       "    </tr>\n",
       "    <tr>\n",
       "      <th>1060640</th>\n",
       "      <td>70</td>\n",
       "      <td>799</td>\n",
       "      <td>407</td>\n",
       "      <td>313</td>\n",
       "      <td>94</td>\n",
       "      <td>15</td>\n",
       "      <td>SIMONE TEBET</td>\n",
       "      <td>17</td>\n",
       "    </tr>\n",
       "    <tr>\n",
       "      <th>855711</th>\n",
       "      <td>63</td>\n",
       "      <td>606</td>\n",
       "      <td>365</td>\n",
       "      <td>318</td>\n",
       "      <td>47</td>\n",
       "      <td>96</td>\n",
       "      <td>Nulo</td>\n",
       "      <td>5</td>\n",
       "    </tr>\n",
       "    <tr>\n",
       "      <th>476701</th>\n",
       "      <td>37</td>\n",
       "      <td>498</td>\n",
       "      <td>308</td>\n",
       "      <td>277</td>\n",
       "      <td>31</td>\n",
       "      <td>15</td>\n",
       "      <td>SIMONE TEBET</td>\n",
       "      <td>13</td>\n",
       "    </tr>\n",
       "    <tr>\n",
       "      <th>42188</th>\n",
       "      <td>1</td>\n",
       "      <td>874</td>\n",
       "      <td>386</td>\n",
       "      <td>327</td>\n",
       "      <td>59</td>\n",
       "      <td>22</td>\n",
       "      <td>JAIR BOLSONARO</td>\n",
       "      <td>186</td>\n",
       "    </tr>\n",
       "    <tr>\n",
       "      <th>860209</th>\n",
       "      <td>63</td>\n",
       "      <td>629</td>\n",
       "      <td>424</td>\n",
       "      <td>351</td>\n",
       "      <td>73</td>\n",
       "      <td>16</td>\n",
       "      <td>VERA</td>\n",
       "      <td>1</td>\n",
       "    </tr>\n",
       "    <tr>\n",
       "      <th>442868</th>\n",
       "      <td>32</td>\n",
       "      <td>944</td>\n",
       "      <td>360</td>\n",
       "      <td>305</td>\n",
       "      <td>55</td>\n",
       "      <td>96</td>\n",
       "      <td>Nulo</td>\n",
       "      <td>5</td>\n",
       "    </tr>\n",
       "    <tr>\n",
       "      <th>745441</th>\n",
       "      <td>59</td>\n",
       "      <td>695</td>\n",
       "      <td>368</td>\n",
       "      <td>271</td>\n",
       "      <td>97</td>\n",
       "      <td>44</td>\n",
       "      <td>SORAYA THRONICKE</td>\n",
       "      <td>2</td>\n",
       "    </tr>\n",
       "    <tr>\n",
       "      <th>558618</th>\n",
       "      <td>40</td>\n",
       "      <td>485</td>\n",
       "      <td>421</td>\n",
       "      <td>346</td>\n",
       "      <td>75</td>\n",
       "      <td>95</td>\n",
       "      <td>Branco</td>\n",
       "      <td>2</td>\n",
       "    </tr>\n",
       "    <tr>\n",
       "      <th>829509</th>\n",
       "      <td>62</td>\n",
       "      <td>655</td>\n",
       "      <td>289</td>\n",
       "      <td>199</td>\n",
       "      <td>90</td>\n",
       "      <td>12</td>\n",
       "      <td>CIRO GOMES</td>\n",
       "      <td>8</td>\n",
       "    </tr>\n",
       "    <tr>\n",
       "      <th>693195</th>\n",
       "      <td>58</td>\n",
       "      <td>978</td>\n",
       "      <td>394</td>\n",
       "      <td>324</td>\n",
       "      <td>70</td>\n",
       "      <td>96</td>\n",
       "      <td>Nulo</td>\n",
       "      <td>6</td>\n",
       "    </tr>\n",
       "  </tbody>\n",
       "</table>\n",
       "</div>"
      ],
      "text/plain": [
       "         NR_ZONA  NR_SECAO  QT_APTOS  QT_COMPARECIMENTO  QT_ABSTENCOES  \\\n",
       "563398        40       510       422                372             50   \n",
       "506759        37       658       393                348             45   \n",
       "722530        59       570       390                345             45   \n",
       "977657        68       589       390                328             62   \n",
       "60879          2       569       343                294             49   \n",
       "343808        31       555       383                336             47   \n",
       "748617        59       713       390                316             74   \n",
       "527128        40       318       421                361             60   \n",
       "862163        63       639       420                367             53   \n",
       "384999        32       616       401                359             42   \n",
       "1060640       70       799       407                313             94   \n",
       "855711        63       606       365                318             47   \n",
       "476701        37       498       308                277             31   \n",
       "42188          1       874       386                327             59   \n",
       "860209        63       629       424                351             73   \n",
       "442868        32       944       360                305             55   \n",
       "745441        59       695       368                271             97   \n",
       "558618        40       485       421                346             75   \n",
       "829509        62       655       289                199             90   \n",
       "693195        58       978       394                324             70   \n",
       "\n",
       "         NR_VOTAVEL        NM_VOTAVEL  QT_VOTOS  \n",
       "563398           14      PADRE KELMON         1  \n",
       "506759           95            Branco         6  \n",
       "722530           16              VERA         1  \n",
       "977657           12        CIRO GOMES        12  \n",
       "60879            44  SORAYA THRONICKE         2  \n",
       "343808           12        CIRO GOMES        10  \n",
       "748617           15      SIMONE TEBET         4  \n",
       "527128           30    FELIPE D'AVILA         1  \n",
       "862163           22    JAIR BOLSONARO       160  \n",
       "384999           13              LULA       129  \n",
       "1060640          15      SIMONE TEBET        17  \n",
       "855711           96              Nulo         5  \n",
       "476701           15      SIMONE TEBET        13  \n",
       "42188            22    JAIR BOLSONARO       186  \n",
       "860209           16              VERA         1  \n",
       "442868           96              Nulo         5  \n",
       "745441           44  SORAYA THRONICKE         2  \n",
       "558618           95            Branco         2  \n",
       "829509           12        CIRO GOMES         8  \n",
       "693195           96              Nulo         6  "
      ]
     },
     "execution_count": 18,
     "metadata": {},
     "output_type": "execute_result"
    }
   ],
   "source": [
    "municipio.sample(20)"
   ]
  },
  {
   "cell_type": "code",
   "execution_count": 19,
   "metadata": {},
   "outputs": [
    {
     "data": {
      "text/plain": [
       "NM_VOTAVEL\n",
       "JAIR BOLSONARO         622846\n",
       "LULA                   430562\n",
       "SIMONE TEBET            59854\n",
       "CIRO GOMES              32622\n",
       "Nulo                    24314\n",
       "Branco                  15221\n",
       "SORAYA THRONICKE        10300\n",
       "FELIPE D'AVILA           4539\n",
       "PADRE KELMON             1059\n",
       "LÉO PÉRICLES              419\n",
       "SOFIA MANZANO             353\n",
       "VERA                      331\n",
       "CONSTITUINTE EYMAEL       212\n",
       "Name: QT_VOTOS, dtype: int64"
      ]
     },
     "execution_count": 19,
     "metadata": {},
     "output_type": "execute_result"
    }
   ],
   "source": [
    "municipio.groupby('NM_VOTAVEL')['QT_VOTOS'].sum().sort_values(ascending = False)"
   ]
  },
  {
   "cell_type": "code",
   "execution_count": 20,
   "metadata": {},
   "outputs": [
    {
     "data": {
      "text/html": [
       "<div>\n",
       "<style scoped>\n",
       "    .dataframe tbody tr th:only-of-type {\n",
       "        vertical-align: middle;\n",
       "    }\n",
       "\n",
       "    .dataframe tbody tr th {\n",
       "        vertical-align: top;\n",
       "    }\n",
       "\n",
       "    .dataframe thead th {\n",
       "        text-align: right;\n",
       "    }\n",
       "</style>\n",
       "<table border=\"1\" class=\"dataframe\">\n",
       "  <thead>\n",
       "    <tr style=\"text-align: right;\">\n",
       "      <th></th>\n",
       "      <th>Jair Bolsonaro</th>\n",
       "      <th>Lula</th>\n",
       "      <th>Simone Tebet</th>\n",
       "      <th>Nulos</th>\n",
       "      <th>Brancos</th>\n",
       "    </tr>\n",
       "  </thead>\n",
       "  <tbody>\n",
       "    <tr>\n",
       "      <th>1</th>\n",
       "      <td>51.7</td>\n",
       "      <td>34.5</td>\n",
       "      <td>6.0</td>\n",
       "      <td>1.9</td>\n",
       "      <td>1.2</td>\n",
       "    </tr>\n",
       "    <tr>\n",
       "      <th>2</th>\n",
       "      <td>55.2</td>\n",
       "      <td>31.0</td>\n",
       "      <td>5.9</td>\n",
       "      <td>1.6</td>\n",
       "      <td>1.0</td>\n",
       "    </tr>\n",
       "    <tr>\n",
       "      <th>31</th>\n",
       "      <td>50.4</td>\n",
       "      <td>37.2</td>\n",
       "      <td>4.7</td>\n",
       "      <td>2.5</td>\n",
       "      <td>1.4</td>\n",
       "    </tr>\n",
       "    <tr>\n",
       "      <th>32</th>\n",
       "      <td>51.8</td>\n",
       "      <td>35.8</td>\n",
       "      <td>5.4</td>\n",
       "      <td>1.9</td>\n",
       "      <td>1.2</td>\n",
       "    </tr>\n",
       "    <tr>\n",
       "      <th>37</th>\n",
       "      <td>51.6</td>\n",
       "      <td>35.0</td>\n",
       "      <td>5.4</td>\n",
       "      <td>2.1</td>\n",
       "      <td>1.3</td>\n",
       "    </tr>\n",
       "    <tr>\n",
       "      <th>40</th>\n",
       "      <td>54.1</td>\n",
       "      <td>33.2</td>\n",
       "      <td>5.3</td>\n",
       "      <td>1.8</td>\n",
       "      <td>1.1</td>\n",
       "    </tr>\n",
       "    <tr>\n",
       "      <th>58</th>\n",
       "      <td>53.8</td>\n",
       "      <td>33.7</td>\n",
       "      <td>5.1</td>\n",
       "      <td>1.9</td>\n",
       "      <td>1.2</td>\n",
       "    </tr>\n",
       "    <tr>\n",
       "      <th>59</th>\n",
       "      <td>49.5</td>\n",
       "      <td>38.3</td>\n",
       "      <td>4.7</td>\n",
       "      <td>2.3</td>\n",
       "      <td>1.5</td>\n",
       "    </tr>\n",
       "    <tr>\n",
       "      <th>62</th>\n",
       "      <td>52.2</td>\n",
       "      <td>35.9</td>\n",
       "      <td>4.7</td>\n",
       "      <td>1.9</td>\n",
       "      <td>1.2</td>\n",
       "    </tr>\n",
       "    <tr>\n",
       "      <th>63</th>\n",
       "      <td>50.5</td>\n",
       "      <td>37.9</td>\n",
       "      <td>4.5</td>\n",
       "      <td>2.1</td>\n",
       "      <td>1.3</td>\n",
       "    </tr>\n",
       "    <tr>\n",
       "      <th>65</th>\n",
       "      <td>51.3</td>\n",
       "      <td>37.1</td>\n",
       "      <td>4.5</td>\n",
       "      <td>1.9</td>\n",
       "      <td>1.3</td>\n",
       "    </tr>\n",
       "    <tr>\n",
       "      <th>68</th>\n",
       "      <td>48.9</td>\n",
       "      <td>39.9</td>\n",
       "      <td>4.1</td>\n",
       "      <td>2.2</td>\n",
       "      <td>1.4</td>\n",
       "    </tr>\n",
       "    <tr>\n",
       "      <th>70</th>\n",
       "      <td>51.6</td>\n",
       "      <td>36.1</td>\n",
       "      <td>4.7</td>\n",
       "      <td>2.2</td>\n",
       "      <td>1.4</td>\n",
       "    </tr>\n",
       "  </tbody>\n",
       "</table>\n",
       "</div>"
      ],
      "text/plain": [
       "    Jair Bolsonaro  Lula  Simone Tebet  Nulos  Brancos\n",
       "1             51.7  34.5           6.0    1.9      1.2\n",
       "2             55.2  31.0           5.9    1.6      1.0\n",
       "31            50.4  37.2           4.7    2.5      1.4\n",
       "32            51.8  35.8           5.4    1.9      1.2\n",
       "37            51.6  35.0           5.4    2.1      1.3\n",
       "40            54.1  33.2           5.3    1.8      1.1\n",
       "58            53.8  33.7           5.1    1.9      1.2\n",
       "59            49.5  38.3           4.7    2.3      1.5\n",
       "62            52.2  35.9           4.7    1.9      1.2\n",
       "63            50.5  37.9           4.5    2.1      1.3\n",
       "65            51.3  37.1           4.5    1.9      1.3\n",
       "68            48.9  39.9           4.1    2.2      1.4\n",
       "70            51.6  36.1           4.7    2.2      1.4"
      ]
     },
     "execution_count": 20,
     "metadata": {},
     "output_type": "execute_result"
    }
   ],
   "source": [
    "votacao = {}\n",
    "for zona in municipio.NR_ZONA.unique():\n",
    "    result = municipio.query('NR_ZONA == @zona').groupby('NM_VOTAVEL')['QT_VOTOS'].sum()\n",
    "    total = sum(result)\n",
    "    votacao[zona] = {'Jair Bolsonaro': round(result[\"JAIR BOLSONARO\"] / total * 100, 1),\n",
    "                     'Lula': round(result[\"LULA\"] / total * 100, 1), \n",
    "                     'Simone Tebet': round(result['SIMONE TEBET'] / total * 100, 1),\n",
    "                     'Nulos':round(result['Nulo'] / total * 100, 1), \n",
    "                     'Brancos':round(result['Branco'] / total * 100, 1)\n",
    "                    }\n",
    "votacao = pd.DataFrame(votacao).transpose()\n",
    "votacao"
   ]
  },
  {
   "cell_type": "code",
   "execution_count": 21,
   "metadata": {},
   "outputs": [
    {
     "data": {
      "text/plain": [
       "2     55.2\n",
       "40    54.1\n",
       "58    53.8\n",
       "62    52.2\n",
       "32    51.8\n",
       "1     51.7\n",
       "37    51.6\n",
       "70    51.6\n",
       "65    51.3\n",
       "63    50.5\n",
       "31    50.4\n",
       "59    49.5\n",
       "68    48.9\n",
       "Name: Jair Bolsonaro, dtype: float64"
      ]
     },
     "execution_count": 21,
     "metadata": {},
     "output_type": "execute_result"
    }
   ],
   "source": [
    "votacao['Jair Bolsonaro'].sort_values(ascending = False)"
   ]
  },
  {
   "cell_type": "code",
   "execution_count": 22,
   "metadata": {},
   "outputs": [
    {
     "data": {
      "text/plain": [
       "68    39.9\n",
       "59    38.3\n",
       "63    37.9\n",
       "31    37.2\n",
       "65    37.1\n",
       "70    36.1\n",
       "62    35.9\n",
       "32    35.8\n",
       "37    35.0\n",
       "1     34.5\n",
       "58    33.7\n",
       "40    33.2\n",
       "2     31.0\n",
       "Name: Lula, dtype: float64"
      ]
     },
     "execution_count": 22,
     "metadata": {},
     "output_type": "execute_result"
    }
   ],
   "source": [
    "votacao['Lula'].sort_values(ascending = False)"
   ]
  },
  {
   "cell_type": "code",
   "execution_count": 23,
   "metadata": {},
   "outputs": [
    {
     "name": "stdout",
     "output_type": "stream",
     "text": [
      "Porcentagem de comparecimento 84.80%\n"
     ]
    }
   ],
   "source": [
    "print (f\"Porcentagem de comparecimento {municipio['QT_COMPARECIMENTO'].sum()/municipio['QT_APTOS'].sum()*100:.2f}%\")"
   ]
  },
  {
   "cell_type": "code",
   "execution_count": null,
   "metadata": {},
   "outputs": [],
   "source": []
  }
 ],
 "metadata": {
  "kernelspec": {
   "display_name": "Python 3 (ipykernel)",
   "language": "python",
   "name": "python3"
  },
  "language_info": {
   "codemirror_mode": {
    "name": "ipython",
    "version": 3
   },
   "file_extension": ".py",
   "mimetype": "text/x-python",
   "name": "python",
   "nbconvert_exporter": "python",
   "pygments_lexer": "ipython3",
   "version": "3.10.4"
  },
  "toc": {
   "base_numbering": 1,
   "nav_menu": {},
   "number_sections": false,
   "sideBar": false,
   "skip_h1_title": false,
   "title_cell": "Table of Contents",
   "title_sidebar": "Contents",
   "toc_cell": false,
   "toc_position": {},
   "toc_section_display": false,
   "toc_window_display": false
  }
 },
 "nbformat": 4,
 "nbformat_minor": 4
}
