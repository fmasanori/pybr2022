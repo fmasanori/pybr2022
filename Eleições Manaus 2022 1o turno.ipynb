{
 "cells": [
  {
   "cell_type": "markdown",
   "metadata": {},
   "source": [
    "# Análise de Dados Eleitorais Manaus 1o turno\n",
    "\n",
    "Meus contatos: https://linktr.ee/fmasanori\n",
    "\n",
    "Agradecimentos à primeira turma do curso Desenvolvimento em Software Multiplataforma, da FATEC São José dos Campos, que desenvolveu este projeto, inicialmente para a [TV Vanguarda](http://vanguarda.tv/). Em especial à Monique Carniello.\n",
    "\n",
    "ATENÇÃO: na primeira tela de instalação do Python, habilite a opção PATH, note que **não** é o padrão.\n",
    "\n",
    "Instalar o Python 3.6 ou superior (sugerimos não usar Anaconda) <br>\n",
    "https://python.org.br/instalacao-windows/ <br>\n",
    "https://python.org.br/instalacao-linux/ <br>\n",
    "https://python.org.br/instalacao-mac/ <br>\n",
    "\n",
    "Após instalar o Python, abra o terminal (Linha de Comando) e instale as bibliotecas necessárias:<br>\n",
    "<br>\n",
    "**pip install pandas matplotlib jupyter numpy**\n",
    "\n",
    "Arquivos necessários:<br> \n",
    "https://cdn.tse.jus.br/estatistica/sead/odsele/perfil_eleitor_secao/perfil_eleitor_secao_ATUAL_AM.zip\n",
    "https://cdn.tse.jus.br/estatistica/sead/eleicoes/eleicoes2022/buweb/bweb_1t_AM_051020221321.zip<br>\n",
    "<br>\n",
    "**Descompactar em c:\\users\\seunome**<br>\n",
    "<br>"
   ]
  },
  {
   "cell_type": "markdown",
   "metadata": {},
   "source": [
    "# Primeira parte: Perfil do Eleitorado\n",
    "<br>\n",
    "<br>\n"
   ]
  },
  {
   "cell_type": "code",
   "execution_count": null,
   "metadata": {},
   "outputs": [],
   "source": [
    "import pandas as pd\n",
    "import matplotlib.pyplot as plt"
   ]
  },
  {
   "cell_type": "code",
   "execution_count": null,
   "metadata": {},
   "outputs": [],
   "source": [
    "estado = pd.read_csv(\"perfil_eleitor_secao_ATUAL_AM.csv\", \n",
    "                 usecols = '''NR_ZONA NR_SECAO NM_MUNICIPIO DS_FAIXA_ETARIA DS_ESTADO_CIVIL DS_GRAU_ESCOLARIDADE \n",
    "                 QT_ELEITORES_INC_NM_SOCIAL QT_ELEITORES_PERFIL'''.split(),\n",
    "                 sep=\";\", on_bad_lines = 'skip', encoding='Latin 1')\n",
    "municipio = estado.query('NM_MUNICIPIO == \"MANAUS\"')\n",
    "municipio = municipio.drop(columns = 'NM_MUNICIPIO')"
   ]
  },
  {
   "cell_type": "code",
   "execution_count": null,
   "metadata": {
    "scrolled": true
   },
   "outputs": [],
   "source": [
    "municipio.sample(20)"
   ]
  },
  {
   "cell_type": "markdown",
   "metadata": {},
   "source": [
    "## Faixa Etária \n"
   ]
  },
  {
   "cell_type": "code",
   "execution_count": null,
   "metadata": {},
   "outputs": [],
   "source": [
    "FaixaEtaria = municipio.groupby(['DS_FAIXA_ETARIA'])['QT_ELEITORES_PERFIL'].sum()\n",
    "FaixaEtaria"
   ]
  },
  {
   "cell_type": "code",
   "execution_count": null,
   "metadata": {
    "scrolled": false
   },
   "outputs": [],
   "source": [
    "FaixaEtaria.plot(kind='barh', figsize=(16,10))\n",
    "plt.ylabel('FAIXA ETÁRIA')\n",
    "plt.grid(linestyle = '--', linewidth = 0.5)\n"
   ]
  },
  {
   "cell_type": "markdown",
   "metadata": {},
   "source": [
    "## Agrupamento da faixa etária"
   ]
  },
  {
   "cell_type": "code",
   "execution_count": null,
   "metadata": {},
   "outputs": [],
   "source": [
    "Jovem = FaixaEtaria[1:8] \n",
    "Adulto = FaixaEtaria[8:14] \n",
    "Idoso = FaixaEtaria[14:22] "
   ]
  },
  {
   "cell_type": "code",
   "execution_count": null,
   "metadata": {
    "scrolled": false
   },
   "outputs": [],
   "source": [
    "FaixasIdade = pd.DataFrame({'Manaus':[Jovem.sum(), Adulto.sum(), Idoso.sum() + int(FaixaEtaria[0])]},\n",
    "                        #somando idosos acima de 100 anos que estão no ínício\n",
    "                        index = ['Jovens até 29 anos', 'Adultos', 'Idosos a partir de 60'])\n",
    "FaixasIdade"
   ]
  },
  {
   "cell_type": "code",
   "execution_count": null,
   "metadata": {},
   "outputs": [],
   "source": [
    "FaixasIdade.plot(kind='barh', figsize=(16,8))\n",
    "plt.ylabel('FAIXA ETÁRIA AGRUPADA')\n",
    "plt.grid(linestyle = '--', linewidth = 0.5)\n"
   ]
  },
  {
   "cell_type": "markdown",
   "metadata": {},
   "source": [
    "## Zonas Eleitorais com mais jovens e mais idosos"
   ]
  },
  {
   "cell_type": "code",
   "execution_count": null,
   "metadata": {},
   "outputs": [],
   "source": [
    "jovens = {}\n",
    "for zona in municipio.NR_ZONA.unique():\n",
    "    result = municipio.query('NR_ZONA == @zona').groupby('DS_FAIXA_ETARIA')['QT_ELEITORES_PERFIL'].sum()\n",
    "    jovens[zona] = result[1:8].sum()\n",
    "for zona in sorted(jovens, key=lambda x:jovens[x], reverse = True):\n",
    "    print (f'Zona eleitoral {zona}: {jovens[zona]}')"
   ]
  },
  {
   "cell_type": "code",
   "execution_count": null,
   "metadata": {},
   "outputs": [],
   "source": [
    "idosos = {}\n",
    "for zona in municipio.NR_ZONA.unique():\n",
    "    result = municipio.query('NR_ZONA == @zona').groupby('DS_FAIXA_ETARIA')['QT_ELEITORES_PERFIL'].sum()\n",
    "    idosos[zona] = result[14:22].sum() + int(result[0])\n",
    "for zona in sorted(idosos, key=lambda x:idosos[x], reverse = True):\n",
    "    print (f'Zona eleitoral {zona}: {idosos[zona]}')"
   ]
  },
  {
   "cell_type": "markdown",
   "metadata": {},
   "source": [
    "## Estado Civil"
   ]
  },
  {
   "cell_type": "code",
   "execution_count": null,
   "metadata": {},
   "outputs": [],
   "source": [
    "EstadoCivil = municipio.groupby('DS_ESTADO_CIVIL')['QT_ELEITORES_PERFIL'].sum().sort_values(ascending=False)\n",
    "EstadoCivil"
   ]
  },
  {
   "cell_type": "markdown",
   "metadata": {},
   "source": [
    "## Escolaridade\n"
   ]
  },
  {
   "cell_type": "code",
   "execution_count": null,
   "metadata": {},
   "outputs": [],
   "source": [
    "Escolaridade = municipio.groupby(['DS_GRAU_ESCOLARIDADE'])['QT_ELEITORES_PERFIL'].sum().sort_values(ascending = False)\n",
    "Escolaridade"
   ]
  },
  {
   "cell_type": "markdown",
   "metadata": {},
   "source": [
    "## Salvar Dados"
   ]
  },
  {
   "cell_type": "code",
   "execution_count": null,
   "metadata": {},
   "outputs": [],
   "source": [
    "FaixasIdade.to_csv('FaixasIdade.csv')\n",
    "EstadoCivil.to_csv('EstadoCivil.csv')\n",
    "Escolaridade.to_csv('Escolaridade.csv')"
   ]
  },
  {
   "cell_type": "markdown",
   "metadata": {},
   "source": [
    "## Nome social\n"
   ]
  },
  {
   "cell_type": "code",
   "execution_count": null,
   "metadata": {},
   "outputs": [],
   "source": [
    "NomeSocial = municipio.groupby(['QT_ELEITORES_INC_NM_SOCIAL'])['QT_ELEITORES_PERFIL'].count()\n",
    "NomeSocial[1]"
   ]
  },
  {
   "cell_type": "markdown",
   "metadata": {},
   "source": [
    "# Zonas Eleitorais com mais pessoas que utilizam nome social"
   ]
  },
  {
   "cell_type": "code",
   "execution_count": null,
   "metadata": {},
   "outputs": [],
   "source": [
    "nome_social = {}\n",
    "for zona in municipio.NR_ZONA.unique():\n",
    "    result = municipio.query('NR_ZONA == @zona').groupby('QT_ELEITORES_INC_NM_SOCIAL')['QT_ELEITORES_PERFIL'].count()\n",
    "    nome_social[zona] = result[1]\n",
    "for zona in sorted(nome_social, key=lambda x:nome_social[x], reverse = True):\n",
    "    print (f'Zona eleitoral {zona}: {nome_social[zona]}')"
   ]
  },
  {
   "cell_type": "markdown",
   "metadata": {},
   "source": [
    "# Segunda parte: análise dos boletins de urna do 1o turno\n",
    "<br>\n",
    "<br>"
   ]
  },
  {
   "cell_type": "code",
   "execution_count": null,
   "metadata": {},
   "outputs": [],
   "source": [
    "import pandas as pd\n",
    "import matplotlib.pyplot as plt\n",
    "import numpy as np"
   ]
  },
  {
   "cell_type": "code",
   "execution_count": null,
   "metadata": {},
   "outputs": [],
   "source": [
    "estado = pd.read_csv(\"bweb_1t_AM_051020221321.csv\", \n",
    "                 usecols = '''NR_ZONA NR_SECAO NM_MUNICIPIO QT_COMPARECIMENTO QT_APTOS QT_COMPARECIMENTO \n",
    "                 QT_ABSTENCOES NR_VOTAVEL NM_VOTAVEL QT_VOTOS DS_CARGO_PERGUNTA'''.split(),\n",
    "                 sep=\";\", on_bad_lines = 'skip', encoding='Latin 1')\n",
    "municipio = estado.query('NM_MUNICIPIO == \"MANAUS\" and DS_CARGO_PERGUNTA == \"Presidente\"')\n",
    "municipio = municipio.drop(columns = 'NM_MUNICIPIO DS_CARGO_PERGUNTA'.split())"
   ]
  },
  {
   "cell_type": "code",
   "execution_count": null,
   "metadata": {},
   "outputs": [],
   "source": [
    "municipio.sample(20)"
   ]
  },
  {
   "cell_type": "code",
   "execution_count": null,
   "metadata": {},
   "outputs": [],
   "source": [
    "municipio.groupby('NM_VOTAVEL')['QT_VOTOS'].sum().sort_values(ascending = False)"
   ]
  },
  {
   "cell_type": "code",
   "execution_count": null,
   "metadata": {},
   "outputs": [],
   "source": [
    "votacao = {}\n",
    "for zona in municipio.NR_ZONA.unique():\n",
    "    result = municipio.query('NR_ZONA == @zona').groupby('NM_VOTAVEL')['QT_VOTOS'].sum()\n",
    "    total = sum(result)\n",
    "    votacao[zona] = {'Jair Bolsonaro': round(result[\"JAIR BOLSONARO\"] / total * 100, 1),\n",
    "                     'Lula': round(result[\"LULA\"] / total * 100, 1), \n",
    "                     'Simone Tebet': round(result['SIMONE TEBET'] / total * 100, 1),\n",
    "                     'Nulos':round(result['Nulo'] / total * 100, 1), \n",
    "                     'Brancos':round(result['Branco'] / total * 100, 1)\n",
    "                    }\n",
    "votacao = pd.DataFrame(votacao).transpose()\n",
    "votacao"
   ]
  },
  {
   "cell_type": "code",
   "execution_count": null,
   "metadata": {},
   "outputs": [],
   "source": [
    "votacao['Jair Bolsonaro'].sort_values(ascending = False)"
   ]
  },
  {
   "cell_type": "code",
   "execution_count": null,
   "metadata": {},
   "outputs": [],
   "source": [
    "votacao['Lula'].sort_values(ascending = False)"
   ]
  },
  {
   "cell_type": "code",
   "execution_count": null,
   "metadata": {},
   "outputs": [],
   "source": [
    "print (f\"Porcentagem de comparecimento {municipio['QT_COMPARECIMENTO'].sum()/municipio['QT_APTOS'].sum()*100:.2f}%\")"
   ]
  }
 ],
 "metadata": {
  "kernelspec": {
   "display_name": "Python 3 (ipykernel)",
   "language": "python",
   "name": "python3"
  },
  "language_info": {
   "codemirror_mode": {
    "name": "ipython",
    "version": 3
   },
   "file_extension": ".py",
   "mimetype": "text/x-python",
   "name": "python",
   "nbconvert_exporter": "python",
   "pygments_lexer": "ipython3",
   "version": "3.10.4"
  },
  "toc": {
   "base_numbering": 1,
   "nav_menu": {},
   "number_sections": false,
   "sideBar": false,
   "skip_h1_title": false,
   "title_cell": "Table of Contents",
   "title_sidebar": "Contents",
   "toc_cell": false,
   "toc_position": {},
   "toc_section_display": false,
   "toc_window_display": false
  }
 },
 "nbformat": 4,
 "nbformat_minor": 4
}
